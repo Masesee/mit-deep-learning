{
 "cells": [
  {
   "cell_type": "code",
   "execution_count": null,
   "metadata": {},
   "outputs": [],
   "source": [
    "my_rnn = RNN()\n",
    "hidden_state = [0, 0, 0, 0]\n",
    "sentence = [\"I\", \"love\", \"recurrent\", \"neural\"]\n",
    "\n",
    "for word in sentence:\n",
    "    prediction, hidden_state = my_rnn(word, hidden_state)\n",
    "\n",
    "next_word_prediction = prediction\n",
    "print(next_word_prediction)"
   ]
  }
 ],
 "metadata": {
  "kernelspec": {
   "display_name": "DS_DA",
   "language": "python",
   "name": "python3"
  },
  "language_info": {
   "codemirror_mode": {
    "name": "ipython",
    "version": 3
   },
   "file_extension": ".py",
   "mimetype": "text/x-python",
   "name": "python",
   "nbconvert_exporter": "python",
   "pygments_lexer": "ipython3",
   "version": "3.12.7"
  }
 },
 "nbformat": 4,
 "nbformat_minor": 2
}
